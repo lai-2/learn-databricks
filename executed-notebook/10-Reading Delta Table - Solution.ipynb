{
 "cells": [
  {
   "cell_type": "markdown",
   "metadata": {
    "application/vnd.databricks.v1+cell": {
     "cellMetadata": {},
     "inputWidgets": {},
     "nuid": "4d9dd70a-e475-40a4-980e-0afd9180a03a",
     "showTitle": false,
     "tableResultSettingsMap": {},
     "title": ""
    }
   },
   "source": [
    "<div style=\"text-align: center; line-height: 0; padding-top: 9px;\">\n",
    "  <img src=\"https://blog.scholarnest.com/wp-content/uploads/2023/03/scholarnest-academy-scaled.jpg\" alt=\"ScholarNest Academy\" style=\"width: 1400px\">\n",
    "</div>"
   ]
  },
  {
   "cell_type": "markdown",
   "metadata": {
    "application/vnd.databricks.v1+cell": {
     "cellMetadata": {},
     "inputWidgets": {},
     "nuid": "7dc377b1-e4c5-46c4-acc9-f2d9a05ca54a",
     "showTitle": false,
     "tableResultSettingsMap": {},
     "title": ""
    }
   },
   "source": [
    "#####Cleanup previous runs"
   ]
  },
  {
   "cell_type": "code",
   "execution_count": 0,
   "metadata": {
    "application/vnd.databricks.v1+cell": {
     "cellMetadata": {},
     "inputWidgets": {},
     "nuid": "668b299d-4550-4e3b-a7ab-9569a45656cf",
     "showTitle": false,
     "tableResultSettingsMap": {},
     "title": ""
    }
   },
   "outputs": [],
   "source": [
    "%run ../utils/cleanup"
   ]
  },
  {
   "cell_type": "markdown",
   "metadata": {
    "application/vnd.databricks.v1+cell": {
     "cellMetadata": {},
     "inputWidgets": {},
     "nuid": "959a447e-d032-41b4-abb4-c7f1a16d9313",
     "showTitle": false,
     "tableResultSettingsMap": {},
     "title": ""
    }
   },
   "source": [
    "#####Setup"
   ]
  },
  {
   "cell_type": "code",
   "execution_count": 0,
   "metadata": {
    "application/vnd.databricks.v1+cell": {
     "cellMetadata": {},
     "inputWidgets": {},
     "nuid": "dfb73efb-d163-415d-8a3a-27f885e79aae",
     "showTitle": false,
     "tableResultSettingsMap": {},
     "title": ""
    }
   },
   "outputs": [],
   "source": [
    "base_dir = \"/mnt/files\"\n",
    "spark.sql(f\"CREATE CATALOG IF NOT EXISTS dev\")\n",
    "spark.sql(f\"CREATE DATABASE IF NOT EXISTS dev.demo_db\")\n",
    "\n",
    "flight_schema_ddl = \"\"\"FL_DATE DATE, OP_CARRIER STRING, OP_CARRIER_FL_NUM INT, ORIGIN STRING, \n",
    "          ORIGIN_CITY_NAME STRING, DEST STRING, DEST_CITY_NAME STRING, CRS_DEP_TIME INT, DEP_TIME INT, \n",
    "          WHEELS_ON INT, TAXI_IN INT, CRS_ARR_TIME INT, ARR_TIME INT, CANCELLED STRING, DISTANCE INT\"\"\"\n",
    "\n",
    "flight_time_df = (spark.read.format(\"json\")\n",
    "                    .schema(flight_schema_ddl)\n",
    "                    .option(\"dateFormat\", \"M/d/y\")\n",
    "                    .load(f\"{base_dir}/dataset_ch7/flight-time.json\")\n",
    ")\n",
    "\n",
    "flight_time_df.write.format(\"delta\").mode(\"overwrite\").saveAsTable(\"dev.demo_db.flight_time_tbl\")"
   ]
  },
  {
   "cell_type": "markdown",
   "metadata": {
    "application/vnd.databricks.v1+cell": {
     "cellMetadata": {},
     "inputWidgets": {},
     "nuid": "02633348-ea6c-476a-81d0-552fad86db8b",
     "showTitle": false,
     "tableResultSettingsMap": {},
     "title": ""
    }
   },
   "source": [
    "#####1. Read delta table using Spark SQL"
   ]
  },
  {
   "cell_type": "code",
   "execution_count": 0,
   "metadata": {
    "application/vnd.databricks.v1+cell": {
     "cellMetadata": {},
     "inputWidgets": {},
     "nuid": "38215eca-2753-467e-bb47-3f4c8217b5c2",
     "showTitle": false,
     "tableResultSettingsMap": {},
     "title": ""
    }
   },
   "outputs": [],
   "source": [
    "%sql\n",
    "select * from dev.demo_db.flight_time_tbl"
   ]
  },
  {
   "cell_type": "markdown",
   "metadata": {
    "application/vnd.databricks.v1+cell": {
     "cellMetadata": {},
     "inputWidgets": {},
     "nuid": "668feda1-7be3-4462-9f12-82d099594a07",
     "showTitle": false,
     "tableResultSettingsMap": {},
     "title": ""
    }
   },
   "source": [
    "#####2. Read delta table using dataframe api"
   ]
  },
  {
   "cell_type": "code",
   "execution_count": 0,
   "metadata": {
    "application/vnd.databricks.v1+cell": {
     "cellMetadata": {},
     "inputWidgets": {},
     "nuid": "4906d71b-7a11-4fc9-8197-05461c1e2b2d",
     "showTitle": false,
     "tableResultSettingsMap": {},
     "title": ""
    }
   },
   "outputs": [],
   "source": [
    "spark.read.format(\"delta\").table(\"dev.demo_db.flight_time_tbl\").display()"
   ]
  },
  {
   "cell_type": "markdown",
   "metadata": {
    "application/vnd.databricks.v1+cell": {
     "cellMetadata": {},
     "inputWidgets": {},
     "nuid": "ddf7312a-9acf-4c5b-9a5e-687789b940f2",
     "showTitle": false,
     "tableResultSettingsMap": {},
     "title": ""
    }
   },
   "source": [
    "####3. Read delta format data from an external location\n",
    "1. Create external location\n",
    "2. Read using dataframe API\n",
    "3. Create external table"
   ]
  },
  {
   "cell_type": "markdown",
   "metadata": {
    "application/vnd.databricks.v1+cell": {
     "cellMetadata": {},
     "inputWidgets": {},
     "nuid": "5e787988-dc4f-438a-8549-3489ebe88b1a",
     "showTitle": false,
     "tableResultSettingsMap": {},
     "title": ""
    }
   },
   "source": [
    "#####3.1. Create external location"
   ]
  },
  {
   "cell_type": "code",
   "execution_count": 0,
   "metadata": {
    "application/vnd.databricks.v1+cell": {
     "cellMetadata": {},
     "inputWidgets": {},
     "nuid": "fccec3d8-b149-45fa-921c-b8b4f520246b",
     "showTitle": false,
     "tableResultSettingsMap": {},
     "title": ""
    }
   },
   "outputs": [],
   "source": [
    "%sql\n",
    "CREATE EXTERNAL LOCATION IF NOT EXISTS external_data\n",
    "URL 'abfss://dbfs-container@prashantsa.dfs.core.windows.net/external'\n",
    "WITH (CREDENTIAL `scholarnest-storage-credential`)"
   ]
  },
  {
   "cell_type": "markdown",
   "metadata": {
    "application/vnd.databricks.v1+cell": {
     "cellMetadata": {},
     "inputWidgets": {},
     "nuid": "a0b24160-528b-467e-9954-ae5411b964b9",
     "showTitle": false,
     "tableResultSettingsMap": {},
     "title": ""
    }
   },
   "source": [
    "#####3.2. Read using Dataframe API"
   ]
  },
  {
   "cell_type": "code",
   "execution_count": 0,
   "metadata": {
    "application/vnd.databricks.v1+cell": {
     "cellMetadata": {},
     "inputWidgets": {},
     "nuid": "3bdc165d-826b-4219-8d8b-cc95b2cd1fbd",
     "showTitle": false,
     "tableResultSettingsMap": {},
     "title": ""
    }
   },
   "outputs": [],
   "source": [
    "(spark.read\n",
    "    .format(\"delta\")\n",
    "    .load(\"abfss://dbfs-container@prashantsa.dfs.core.windows.net/external/flight-time\")\n",
    "    .display()\n",
    ")"
   ]
  },
  {
   "cell_type": "markdown",
   "metadata": {
    "application/vnd.databricks.v1+cell": {
     "cellMetadata": {},
     "inputWidgets": {},
     "nuid": "3abc366f-0c52-4184-baa7-f81800b523ac",
     "showTitle": false,
     "tableResultSettingsMap": {},
     "title": ""
    }
   },
   "source": [
    "#####3.3. Create external table"
   ]
  },
  {
   "cell_type": "code",
   "execution_count": 0,
   "metadata": {
    "application/vnd.databricks.v1+cell": {
     "cellMetadata": {},
     "inputWidgets": {},
     "nuid": "8d3fea2e-4ac6-4830-9d4e-78298d5f1664",
     "showTitle": false,
     "tableResultSettingsMap": {},
     "title": ""
    }
   },
   "outputs": [],
   "source": [
    "%sql\n",
    "CREATE TABLE IF NOT EXISTS dev.demo_db.flight_time_ext_tbl (\n",
    "    FL_DATE DATE, \n",
    "    OP_CARRIER STRING, \n",
    "    OP_CARRIER_FL_NUM INT, \n",
    "    ORIGIN STRING, \n",
    "    ORIGIN_CITY_NAME STRING, \n",
    "    DEST STRING, \n",
    "    DEST_CITY_NAME STRING, \n",
    "    CRS_DEP_TIME INT, \n",
    "    DEP_TIME INT, \n",
    "    WHEELS_ON INT, \n",
    "    TAXI_IN INT, \n",
    "    CRS_ARR_TIME INT, \n",
    "    ARR_TIME INT, \n",
    "    CANCELLED STRING, \n",
    "    DISTANCE INT\n",
    ") USING DELTA\n",
    "LOCATION \"abfss://dbfs-container@prashantsa.dfs.core.windows.net/external/flight-time\""
   ]
  },
  {
   "cell_type": "code",
   "execution_count": 0,
   "metadata": {
    "application/vnd.databricks.v1+cell": {
     "cellMetadata": {},
     "inputWidgets": {},
     "nuid": "78af8bd5-7fe7-4119-b3f7-c18fff4499f8",
     "showTitle": false,
     "tableResultSettingsMap": {},
     "title": ""
    }
   },
   "outputs": [],
   "source": [
    "%sql\n",
    "select * from dev.demo_db.flight_time_ext_tbl"
   ]
  },
  {
   "cell_type": "markdown",
   "metadata": {
    "application/vnd.databricks.v1+cell": {
     "cellMetadata": {},
     "inputWidgets": {},
     "nuid": "e7f4ce16-22ec-4fae-ac3d-d93de9f3e9a4",
     "showTitle": false,
     "tableResultSettingsMap": {},
     "title": ""
    }
   },
   "source": [
    "&copy; 2021-2023 ScholarNest Technologies Pvt. Ltd. All rights reserved.<br/>\n",
    "Apache, Apache Spark, Spark and the Spark logo are trademarks of the <a href=\"https://www.apache.org/\">Apache Software Foundation</a>.<br/>\n",
    "Databricks, Databricks Cloud and the Databricks logo are trademarks of the <a href=\"https://www.databricks.com/\">Databricks Inc</a>.<br/>\n",
    "<br/>\n",
    "<a href=\"https://www.scholarnest.com/privacy/\">Privacy Policy</a> | \n",
    "<a href=\"https://www.scholarnest.com/terms/\">Terms of Use</a> | <a href=\"https://www.scholarnest.com/contact/\">Contact Us</a>"
   ]
  }
 ],
 "metadata": {
  "application/vnd.databricks.v1+notebook": {
   "computePreferences": null,
   "dashboards": [],
   "environmentMetadata": null,
   "inputWidgetPreferences": null,
   "language": "python",
   "notebookMetadata": {
    "pythonIndentUnit": 4
   },
   "notebookName": "10-Reading Delta Table - Solution",
   "widgets": {}
  }
 },
 "nbformat": 4,
 "nbformat_minor": 0
}