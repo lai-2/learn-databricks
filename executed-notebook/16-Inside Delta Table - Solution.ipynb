{
 "cells": [
  {
   "cell_type": "markdown",
   "metadata": {
    "application/vnd.databricks.v1+cell": {
     "cellMetadata": {},
     "inputWidgets": {},
     "nuid": "7013ab67-9abd-4510-a32b-457e9b9f8852",
     "showTitle": false,
     "tableResultSettingsMap": {},
     "title": ""
    }
   },
   "source": [
    "<div style=\"text-align: center; line-height: 0; padding-top: 9px;\">\n",
    "  <img src=\"https://blog.scholarnest.com/wp-content/uploads/2023/03/scholarnest-academy-scaled.jpg\" alt=\"ScholarNest Academy\" style=\"width: 1400px\">\n",
    "</div>"
   ]
  },
  {
   "cell_type": "markdown",
   "metadata": {
    "application/vnd.databricks.v1+cell": {
     "cellMetadata": {},
     "inputWidgets": {},
     "nuid": "eefd0b7e-6590-4550-9b54-2d8adc371079",
     "showTitle": false,
     "tableResultSettingsMap": {},
     "title": ""
    }
   },
   "source": [
    "#####Cleanup previous runs"
   ]
  },
  {
   "cell_type": "code",
   "execution_count": 0,
   "metadata": {
    "application/vnd.databricks.v1+cell": {
     "cellMetadata": {},
     "inputWidgets": {},
     "nuid": "0633d31e-759e-4a76-82ab-c34b94d89955",
     "showTitle": false,
     "tableResultSettingsMap": {},
     "title": ""
    }
   },
   "outputs": [],
   "source": [
    "%run ../utils/cleanup"
   ]
  },
  {
   "cell_type": "markdown",
   "metadata": {
    "application/vnd.databricks.v1+cell": {
     "cellMetadata": {},
     "inputWidgets": {},
     "nuid": "7a8c3013-a11e-427e-93f2-926e1704d091",
     "showTitle": false,
     "tableResultSettingsMap": {},
     "title": ""
    }
   },
   "source": [
    "#####Setup"
   ]
  },
  {
   "cell_type": "code",
   "execution_count": 0,
   "metadata": {
    "application/vnd.databricks.v1+cell": {
     "cellMetadata": {},
     "inputWidgets": {},
     "nuid": "a37228cd-27c8-4461-a06b-2ff76861aaf6",
     "showTitle": false,
     "tableResultSettingsMap": {},
     "title": ""
    }
   },
   "outputs": [],
   "source": [
    "spark.sql(\"CREATE CATALOG IF NOT EXISTS dev\")\n",
    "spark.sql(\"CREATE DATABASE IF NOT EXISTS dev.demo_db\")\n",
    "spark.sql(\"CREATE VOLUME IF NOT EXISTS dev.demo_db.files\")\n",
    "\n",
    "raw_df = (spark.read\n",
    "            .format(\"csv\")\n",
    "            .option(\"header\", \"true\")\n",
    "            .option(\"inferSchema\",\"true\")\n",
    "            .load(\"/databricks-datasets/learning-spark-v2/sf-fire/sf-fire-calls.csv\")\n",
    ")\n",
    "\n",
    "from pyspark.sql.functions import to_date, to_timestamp, round, year\n",
    "staging_df = (raw_df.withColumnRenamed(\"Call Number\", \"CallNumber\")\n",
    "                    .withColumnRenamed(\"Unit ID\", \"UnitID\")\n",
    "                    .withColumnRenamed(\"Incident Number\", \"IncidentNumber\")\n",
    "                    .withColumnRenamed(\"Call Date\", \"CallDate\")\n",
    "                    .withColumnRenamed(\"Watch Date\", \"WatchDate\")\n",
    "                    .withColumnRenamed(\"Call Final Disposition\", \"CallFinalDisposition\")\n",
    "                    .withColumnRenamed(\"Available DtTm\", \"AvailableDtTm\")\n",
    "                    .withColumnRenamed(\"Zipcode of Incident\", \"Zipcode\")\n",
    "                    .withColumnRenamed(\"Station Area\", \"StationArea\")\n",
    "                    .withColumnRenamed(\"Final Priority\", \"FinalPriority\")\n",
    "                    .withColumnRenamed(\"ALS Unit\", \"ALSUnit\")\n",
    "                    .withColumnRenamed(\"Call Type Group\", \"CallTypeGroup\")\n",
    "                    .withColumnRenamed(\"Unit sequence in call dispatch\", \"UnitSequenceInCallDispatch\")\n",
    "                    .withColumnRenamed(\"Fire Prevention District\", \"FirePreventionDistrict\")\n",
    "                    .withColumnRenamed(\"Supervisor District\", \"SupervisorDistrict\")\n",
    "                    .withColumn(\"CallDate\", to_date(\"CallDate\", \"MM/dd/yyyy\"))\n",
    "                    .withColumn(\"WatchDate\", to_date(\"WatchDate\", \"MM/dd/yyyy\"))\n",
    "                    .withColumn(\"AvailableDtTm\", to_timestamp(\"AvailableDtTm\", \"MM/dd/yyyy hh:mm:ss a\"))\n",
    "                    .withColumn(\"Delay\", round(\"Delay\", 2))\n",
    "                    .withColumn(\"Year\", year(\"CallDate\"))\n",
    ")\n",
    "\n",
    "(staging_df.write\n",
    "        .format(\"delta\")\n",
    "        .mode(\"overwrite\")\n",
    "        .save(\"/Volumes/dev/demo_db/files/fire_calls_tbl\")\n",
    ")"
   ]
  },
  {
   "cell_type": "markdown",
   "metadata": {
    "application/vnd.databricks.v1+cell": {
     "cellMetadata": {},
     "inputWidgets": {},
     "nuid": "9fe85e2b-4844-464f-b3e5-6d3abf4f8c8d",
     "showTitle": false,
     "tableResultSettingsMap": {},
     "title": ""
    }
   },
   "source": [
    "#####1. Check the delta data directory"
   ]
  },
  {
   "cell_type": "code",
   "execution_count": 0,
   "metadata": {
    "application/vnd.databricks.v1+cell": {
     "cellMetadata": {},
     "inputWidgets": {},
     "nuid": "ef4e0c63-c0a5-4bc6-91c5-435f67fe33e9",
     "showTitle": false,
     "tableResultSettingsMap": {},
     "title": ""
    }
   },
   "outputs": [],
   "source": [
    "%fs ls /Volumes/dev/demo_db/files/fire_calls_tbl"
   ]
  },
  {
   "cell_type": "markdown",
   "metadata": {
    "application/vnd.databricks.v1+cell": {
     "cellMetadata": {},
     "inputWidgets": {},
     "nuid": "9a603ac5-c8e9-4d21-8429-ae5bcfacdcbf",
     "showTitle": false,
     "tableResultSettingsMap": {},
     "title": ""
    }
   },
   "source": [
    "#####2. What is inside _delta_log"
   ]
  },
  {
   "cell_type": "code",
   "execution_count": 0,
   "metadata": {
    "application/vnd.databricks.v1+cell": {
     "cellMetadata": {},
     "inputWidgets": {},
     "nuid": "dfc86a23-60c5-4453-8483-c128cb4b201b",
     "showTitle": false,
     "tableResultSettingsMap": {},
     "title": ""
    }
   },
   "outputs": [],
   "source": [
    "%fs ls /Volumes/dev/demo_db/files/fire_calls_tbl/_delta_log"
   ]
  },
  {
   "cell_type": "markdown",
   "metadata": {
    "application/vnd.databricks.v1+cell": {
     "cellMetadata": {},
     "inputWidgets": {},
     "nuid": "c09ec243-1de3-4085-9ece-ce76cfa2eb82",
     "showTitle": false,
     "tableResultSettingsMap": {},
     "title": ""
    }
   },
   "source": [
    "#####3. Apply a delete transaction and checkout delta log and data files"
   ]
  },
  {
   "cell_type": "code",
   "execution_count": 0,
   "metadata": {
    "application/vnd.databricks.v1+cell": {
     "cellMetadata": {},
     "inputWidgets": {},
     "nuid": "7be8259a-96ab-4b4e-8b2d-40097b49c64d",
     "showTitle": false,
     "tableResultSettingsMap": {},
     "title": ""
    }
   },
   "outputs": [],
   "source": [
    "%sql\n",
    "delete from delta.`/Volumes/dev/demo_db/files/fire_calls_tbl`\n",
    "where CallFinalDisposition = \"Duplicate\""
   ]
  },
  {
   "cell_type": "code",
   "execution_count": 0,
   "metadata": {
    "application/vnd.databricks.v1+cell": {
     "cellMetadata": {},
     "inputWidgets": {},
     "nuid": "9413d984-384c-4f3d-8134-f4b6045297c4",
     "showTitle": false,
     "tableResultSettingsMap": {},
     "title": ""
    }
   },
   "outputs": [],
   "source": [
    "%fs ls /Volumes/dev/demo_db/files/fire_calls_tbl"
   ]
  },
  {
   "cell_type": "code",
   "execution_count": 0,
   "metadata": {
    "application/vnd.databricks.v1+cell": {
     "cellMetadata": {},
     "inputWidgets": {},
     "nuid": "7511f8c0-0df6-43b2-9c5b-2a9a31a4794f",
     "showTitle": false,
     "tableResultSettingsMap": {},
     "title": ""
    }
   },
   "outputs": [],
   "source": [
    "%fs ls /Volumes/dev/demo_db/files/fire_calls_tbl/_delta_log"
   ]
  },
  {
   "cell_type": "markdown",
   "metadata": {
    "application/vnd.databricks.v1+cell": {
     "cellMetadata": {},
     "inputWidgets": {},
     "nuid": "963f4afb-6e53-44fb-ab84-d2d895ac1fbf",
     "showTitle": false,
     "tableResultSettingsMap": {},
     "title": ""
    }
   },
   "source": [
    "#####4. Why do you see new data files after deleting some records?"
   ]
  },
  {
   "cell_type": "code",
   "execution_count": 0,
   "metadata": {
    "application/vnd.databricks.v1+cell": {
     "cellMetadata": {},
     "inputWidgets": {},
     "nuid": "81171154-788c-4957-9ec8-9b00ea3b5d29",
     "showTitle": false,
     "tableResultSettingsMap": {},
     "title": ""
    }
   },
   "outputs": [],
   "source": [
    "%sql\n",
    "select * from json.`/Volumes/dev/demo_db/files/fire_calls_tbl/_delta_log/00000000000000000001.json`"
   ]
  },
  {
   "cell_type": "markdown",
   "metadata": {
    "application/vnd.databricks.v1+cell": {
     "cellMetadata": {},
     "inputWidgets": {},
     "nuid": "a0a0dc89-3abd-4c9f-93d8-25a7b7de99c5",
     "showTitle": false,
     "tableResultSettingsMap": {},
     "title": ""
    }
   },
   "source": [
    "&copy; 2021-2023 ScholarNest Technologies Pvt. Ltd. All rights reserved.<br/>\n",
    "Apache, Apache Spark, Spark and the Spark logo are trademarks of the <a href=\"https://www.apache.org/\">Apache Software Foundation</a>.<br/>\n",
    "Databricks, Databricks Cloud and the Databricks logo are trademarks of the <a href=\"https://www.databricks.com/\">Databricks Inc</a>.<br/>\n",
    "<br/>\n",
    "<a href=\"https://www.scholarnest.com/privacy/\">Privacy Policy</a> | \n",
    "<a href=\"https://www.scholarnest.com/terms/\">Terms of Use</a> | <a href=\"https://www.scholarnest.com/contact/\">Contact Us</a>"
   ]
  }
 ],
 "metadata": {
  "application/vnd.databricks.v1+notebook": {
   "computePreferences": null,
   "dashboards": [],
   "environmentMetadata": null,
   "inputWidgetPreferences": null,
   "language": "python",
   "notebookMetadata": {
    "pythonIndentUnit": 4
   },
   "notebookName": "16-Inside Delta Table - Solution",
   "widgets": {}
  }
 },
 "nbformat": 4,
 "nbformat_minor": 0
}