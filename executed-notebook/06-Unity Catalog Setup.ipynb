{
 "cells": [
  {
   "cell_type": "markdown",
   "metadata": {
    "application/vnd.databricks.v1+cell": {
     "cellMetadata": {},
     "inputWidgets": {},
     "nuid": "7934b7d3-4f5d-4c14-9a33-6aba533786d3",
     "showTitle": false,
     "tableResultSettingsMap": {},
     "title": ""
    }
   },
   "source": [
    "<div style=\"text-align: center; line-height: 0; padding-top: 9px;\">\n",
    "  <img src=\"https://blog.scholarnest.com/wp-content/uploads/2023/03/scholarnest-academy-scaled.jpg\" alt=\"ScholarNest Academy\" style=\"width: 1400px\">\n",
    "</div>"
   ]
  },
  {
   "cell_type": "markdown",
   "metadata": {
    "application/vnd.databricks.v1+cell": {
     "cellMetadata": {},
     "inputWidgets": {},
     "nuid": "0fb9f01a-0438-4a1a-95c9-a6041ecd4b28",
     "showTitle": false,
     "tableResultSettingsMap": {},
     "title": ""
    }
   },
   "source": [
    "####Setup Unity Catalog\n",
    "1. Create Workspace\n",
    "2. Create Data Storage Layer\n",
    "    1. Storage Account\n",
    "    2. Storage Container\n",
    "    3. Databricks Access Connector\n",
    "    4. Blog Storage Contributor role for Access Conector\n",
    "3. Setup Unity Catalog Metastore\n",
    "4. Setup Users and Permissions"
   ]
  },
  {
   "cell_type": "markdown",
   "metadata": {
    "application/vnd.databricks.v1+cell": {
     "cellMetadata": {},
     "inputWidgets": {},
     "nuid": "a2571a4c-02ee-4d03-a707-218375eabdc5",
     "showTitle": false,
     "tableResultSettingsMap": {},
     "title": ""
    }
   },
   "source": [
    "#####2.2. Create a storage container for unity catalog metastore (Ex metastore-root)\n",
    "* Go to your Azure storage account page\n",
    "* Click \"Containers\" from the left menu\n",
    "* Click \"+ Container\" to create a new container"
   ]
  },
  {
   "cell_type": "markdown",
   "metadata": {
    "application/vnd.databricks.v1+cell": {
     "cellMetadata": {},
     "inputWidgets": {},
     "nuid": "737082ff-1ae8-4f62-955d-bab89001435b",
     "showTitle": false,
     "tableResultSettingsMap": {},
     "title": ""
    }
   },
   "source": [
    "#####2.3 Create Databricks Access Connector\n",
    "* Click \"+ Create a resource\" button on your Azure portal\n",
    "* Search \"access connector for azure databricks\"\n",
    "* Click \"Create\" button\n",
    "* Select your Azure subscription and a resource group on the create page\n",
    "* Give a name to your connector (Ex databricks_access_connector)\n",
    "* Select a region. Make sure to select the same region as your Databricks workspace and Azure storage account\n",
    "* Click \"Review + Create\"\n",
    "* Click \"Create\" button after reviewing your settings\n",
    "* Go to Access Connector Resource page and copy the Resource ID. You will need it later"
   ]
  },
  {
   "cell_type": "markdown",
   "metadata": {
    "application/vnd.databricks.v1+cell": {
     "cellMetadata": {},
     "inputWidgets": {},
     "nuid": "05cd58e4-650f-4fa0-8246-32e21c029ce9",
     "showTitle": false,
     "tableResultSettingsMap": {},
     "title": ""
    }
   },
   "source": [
    "#####2.4 Grant access to Access connector for your Azure storage account\n",
    "* Go to your storage account page on your Azure portal\n",
    "* Click \"Access control (IAM)\" from the left side memu\n",
    "* Click \"+ Add\" link from the top menu and select \"Add role assignment\"\n",
    "* Search for \"Storage blob data contributor\" role and select it\n",
    "* Click \"Next\" button\n",
    "* Choose \"Managed idendity\" radio button\n",
    "* Click \"+ Select members\" on the members page\n",
    "* Choose your Azure subscription\n",
    "* Choose \"All system managed identities\"\n",
    "* Select your Databricks access connector (Ex databricks_access_connector)\n",
    "* Click \"Select\" button\n",
    "* Click \"Review + assign\" twice"
   ]
  },
  {
   "cell_type": "markdown",
   "metadata": {
    "application/vnd.databricks.v1+cell": {
     "cellMetadata": {},
     "inputWidgets": {},
     "nuid": "2e8f039b-6339-4eb7-8203-096f6f056d0d",
     "showTitle": false,
     "tableResultSettingsMap": {},
     "title": ""
    }
   },
   "source": [
    "#####3. Setup Unity Catalog Metastore\n",
    "* Go to Databricks Account console\n",
    "    * Click your name at the top right corner of the Databricks workspace\n",
    "    * Click Manage Accounts from the menu\n",
    "    * Databricks account console will open in a new browser tab\n",
    "* Perform following in the Databricks Account Console\n",
    "    * Click Data from the left side menu\n",
    "    * Click \"Create Metastore\" button\n",
    "    * Give a name for metastore (Ex - scholarnest-meta)\n",
    "    * Choose a region for metatore deployment. Make sure to choose the same region as your workspace and storage account (Ex eastus)\n",
    "    * Type storage container path for metastore storage (Ex metastore-root@prashantsa.dfs.core.windows.net/)\n",
    "    * Paste the Access connector resource id\n",
    "    * Clcik the \"Create\" button\n",
    "    * Select all workspace names to connect it with the metastore\n",
    "    * Click \"Assign\" button\n"
   ]
  },
  {
   "cell_type": "markdown",
   "metadata": {
    "application/vnd.databricks.v1+cell": {
     "cellMetadata": {},
     "inputWidgets": {},
     "nuid": "c155168a-5a8b-4872-bb0f-541f769ee9e6",
     "showTitle": false,
     "tableResultSettingsMap": {},
     "title": ""
    }
   },
   "source": [
    "#####4. Provision your company users to Unity Catalog\n",
    "1. Get SCIM connection details\n",
    "    1. Click settings menu from the left side of Databricks Account Console\n",
    "    2. Click \"Setup user provisioning\" button\n",
    "    3. Copy SCIM token\n",
    "    4. Copy SCIM URL\n",
    "    5. Click \"Done\" button\n",
    "2. Sync corporate users from your Active Directory\n",
    "    1. Go to your organizations Active Directory (Ex Your Azure Active Directory)\n",
    "    2. Select \"Enterprise Applications\" from the left side menu\n",
    "    3. Clcik \"+ New Application\"\n",
    "    4. Search for \"Azure Databricks SCIM Provisioning Connector\" and select it\n",
    "    5. Click \"Create\" button\n",
    "    6. Clcik \"Provisioning\" from the left side menu on the SCIM Provisioning Connector page\n",
    "    7. Click \"Get Started\" button\n",
    "    8. Select Provisioning mode (Ex Automatic)\n",
    "    9. Paste Databricks Account SCIM URL that you copied earlier\n",
    "    10. Paste Databricks Account SCIM token that you copied earlier\n",
    "    11. Click \"Test Connection\" to confirm the connectivity\n",
    "    12. Click \"Save\" link at the top\n",
    "    13. Go back to \"SCIM Provisioning Connector\" page\n",
    "    14. Click \"Users and groups\" from the left side menu\n",
    "    15. Click \"+ Add user/group\"\n",
    "    16. Click \"Not Selected\" and select desired users\n",
    "    17. Click \"Assign\" button\n",
    "    18. Click \"Provisioning\" from the left side menu\n",
    "    19. Click \"Start Provisioning\" button from the top\n",
    "    20. Wait for \"Initial cycle completed.\" message"
   ]
  },
  {
   "cell_type": "markdown",
   "metadata": {
    "application/vnd.databricks.v1+cell": {
     "cellMetadata": {},
     "inputWidgets": {},
     "nuid": "422a0147-96f9-44ee-86b9-1cbe84e790a2",
     "showTitle": false,
     "tableResultSettingsMap": {},
     "title": ""
    }
   },
   "source": [
    "#####5. Create user group\n",
    "1. Click \"User management\" from the left side of Databricks Account Console\n",
    "2. Go to groups tab\n",
    "3. Click Add group button\n",
    "4. Type group name (Ex scholarnest-dev)\n",
    "5. Click Save button\n",
    "6. Click \"Add members\" button to add new members to the group"
   ]
  },
  {
   "cell_type": "markdown",
   "metadata": {
    "application/vnd.databricks.v1+cell": {
     "cellMetadata": {},
     "inputWidgets": {},
     "nuid": "0c8b8529-3711-461b-85b9-7207126315a6",
     "showTitle": false,
     "tableResultSettingsMap": {},
     "title": ""
    }
   },
   "source": [
    "&copy; 2021-2023 ScholarNest Technologies Pvt. Ltd. All rights reserved.<br/>\n",
    "Apache, Apache Spark, Spark and the Spark logo are trademarks of the <a href=\"https://www.apache.org/\">Apache Software Foundation</a>.<br/>\n",
    "Databricks, Databricks Cloud and the Databricks logo are trademarks of the <a href=\"https://www.databricks.com/\">Databricks Inc</a>.<br/>\n",
    "<br/>\n",
    "<a href=\"https://www.scholarnest.com/privacy/\">Privacy Policy</a> | \n",
    "<a href=\"https://www.scholarnest.com/terms/\">Terms of Use</a> | <a href=\"https://www.scholarnest.com/contact/\">Contact Us</a>"
   ]
  }
 ],
 "metadata": {
  "application/vnd.databricks.v1+notebook": {
   "computePreferences": null,
   "dashboards": [],
   "environmentMetadata": null,
   "inputWidgetPreferences": null,
   "language": "python",
   "notebookMetadata": {
    "pythonIndentUnit": 4
   },
   "notebookName": "06-Unity Catalog Setup",
   "widgets": {}
  }
 },
 "nbformat": 4,
 "nbformat_minor": 0
}