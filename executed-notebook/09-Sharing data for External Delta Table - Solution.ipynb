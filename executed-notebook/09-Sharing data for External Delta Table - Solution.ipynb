{
 "cells": [
  {
   "cell_type": "markdown",
   "metadata": {
    "application/vnd.databricks.v1+cell": {
     "cellMetadata": {},
     "inputWidgets": {},
     "nuid": "d089e613-caae-46f8-a970-b84c768f710a",
     "showTitle": false,
     "tableResultSettingsMap": {},
     "title": ""
    }
   },
   "source": [
    "<div style=\"text-align: center; line-height: 0; padding-top: 9px;\">\n",
    "  <img src=\"https://blog.scholarnest.com/wp-content/uploads/2023/03/scholarnest-academy-scaled.jpg\" alt=\"ScholarNest Academy\" style=\"width: 1400px\">\n",
    "</div>"
   ]
  },
  {
   "cell_type": "markdown",
   "metadata": {
    "application/vnd.databricks.v1+cell": {
     "cellMetadata": {},
     "inputWidgets": {},
     "nuid": "5a01166b-c93d-4f42-a0d6-68201d73cb82",
     "showTitle": false,
     "tableResultSettingsMap": {},
     "title": ""
    }
   },
   "source": [
    "#####Cleanup previous runs"
   ]
  },
  {
   "cell_type": "code",
   "execution_count": 0,
   "metadata": {
    "application/vnd.databricks.v1+cell": {
     "cellMetadata": {},
     "inputWidgets": {},
     "nuid": "d964be7b-fc67-4023-b56e-cc6a602d3cca",
     "showTitle": false,
     "tableResultSettingsMap": {},
     "title": ""
    }
   },
   "outputs": [],
   "source": [
    "%run ../utils/cleanup"
   ]
  },
  {
   "cell_type": "markdown",
   "metadata": {
    "application/vnd.databricks.v1+cell": {
     "cellMetadata": {},
     "inputWidgets": {},
     "nuid": "2c175715-359f-4995-b17f-96ac244ca442",
     "showTitle": false,
     "tableResultSettingsMap": {},
     "title": ""
    }
   },
   "source": [
    "#####Setup"
   ]
  },
  {
   "cell_type": "code",
   "execution_count": 0,
   "metadata": {
    "application/vnd.databricks.v1+cell": {
     "cellMetadata": {},
     "inputWidgets": {},
     "nuid": "95307442-a1aa-47fc-baf0-a85a59be391a",
     "showTitle": false,
     "tableResultSettingsMap": {},
     "title": ""
    }
   },
   "outputs": [],
   "source": [
    "%python\n",
    "base_dir = \"/mnt/files\"\n",
    "\n",
    "spark.sql(f\"CREATE CATALOG IF NOT EXISTS dev\")\n",
    "spark.sql(f\"CREATE DATABASE IF NOT EXISTS dev.demo_db\")\n",
    "\n",
    "flight_schema_ddl = \"\"\"FL_DATE DATE, OP_CARRIER STRING, OP_CARRIER_FL_NUM INT, ORIGIN STRING, \n",
    "          ORIGIN_CITY_NAME STRING, DEST STRING, DEST_CITY_NAME STRING, CRS_DEP_TIME INT, DEP_TIME INT, \n",
    "          WHEELS_ON INT, TAXI_IN INT, CRS_ARR_TIME INT, ARR_TIME INT, CANCELLED STRING, DISTANCE INT\"\"\"\n",
    "\n",
    "flight_time_df = (spark.read.format(\"json\")\n",
    "                    .schema(flight_schema_ddl)\n",
    "                    .option(\"dateFormat\", \"M/d/y\")\n",
    "                    .load(f\"{base_dir}/dataset_ch7/flight-time.json\")\n",
    ")"
   ]
  },
  {
   "cell_type": "markdown",
   "metadata": {
    "application/vnd.databricks.v1+cell": {
     "cellMetadata": {},
     "inputWidgets": {},
     "nuid": "1e08da97-b9be-46f3-a2d0-1b8d89f9b589",
     "showTitle": false,
     "tableResultSettingsMap": {},
     "title": ""
    }
   },
   "source": [
    "####Do the following to create an external data set in delta format\n",
    "1. Create external location\n",
    "2. Share data in delta format"
   ]
  },
  {
   "cell_type": "markdown",
   "metadata": {
    "application/vnd.databricks.v1+cell": {
     "cellMetadata": {},
     "inputWidgets": {},
     "nuid": "6233a1d8-3178-4159-9509-3fea78443eba",
     "showTitle": false,
     "tableResultSettingsMap": {},
     "title": ""
    }
   },
   "source": [
    "#####1. Create external location\n",
    "######Rename Storage credential to scholarnest-storage-credential"
   ]
  },
  {
   "cell_type": "code",
   "execution_count": 0,
   "metadata": {
    "application/vnd.databricks.v1+cell": {
     "cellMetadata": {},
     "inputWidgets": {},
     "nuid": "011a9a74-4d72-4d02-b6aa-f916d6d6cf23",
     "showTitle": false,
     "tableResultSettingsMap": {},
     "title": ""
    }
   },
   "outputs": [],
   "source": [
    "%sql\n",
    "CREATE EXTERNAL LOCATION IF NOT EXISTS external_data\n",
    "URL 'abfss://dbfs-container@prashantsa.dfs.core.windows.net/external'\n",
    "WITH (CREDENTIAL `scholarnest-storage-credential`)"
   ]
  },
  {
   "cell_type": "markdown",
   "metadata": {
    "application/vnd.databricks.v1+cell": {
     "cellMetadata": {},
     "inputWidgets": {},
     "nuid": "0585a69b-124b-4211-92db-078e17c1b773",
     "showTitle": false,
     "tableResultSettingsMap": {},
     "title": ""
    }
   },
   "source": [
    "#####2. Save data in delta format"
   ]
  },
  {
   "cell_type": "code",
   "execution_count": 0,
   "metadata": {
    "application/vnd.databricks.v1+cell": {
     "cellMetadata": {},
     "inputWidgets": {},
     "nuid": "eff3ad30-b1f4-4fa6-ae6e-58daeda70b4e",
     "showTitle": false,
     "tableResultSettingsMap": {},
     "title": ""
    }
   },
   "outputs": [],
   "source": [
    "(flight_time_df.coalesce(1)\n",
    "    .write\n",
    "    .format(\"delta\")\n",
    "    .mode(\"overwrite\")\n",
    "    .save(\"abfss://dbfs-container@prashantsa.dfs.core.windows.net/external/flight-time\")\n",
    ")"
   ]
  },
  {
   "cell_type": "code",
   "execution_count": 0,
   "metadata": {
    "application/vnd.databricks.v1+cell": {
     "cellMetadata": {},
     "inputWidgets": {},
     "nuid": "4c73ea9b-df32-4c58-bd9c-61d0f93d4915",
     "showTitle": false,
     "tableResultSettingsMap": {},
     "title": ""
    }
   },
   "outputs": [],
   "source": [
    "%fs ls abfss://dbfs-container@prashantsa.dfs.core.windows.net/external/flight-time"
   ]
  },
  {
   "cell_type": "markdown",
   "metadata": {
    "application/vnd.databricks.v1+cell": {
     "cellMetadata": {},
     "inputWidgets": {},
     "nuid": "c3ed9018-f7f3-4648-b747-b40e42b07317",
     "showTitle": false,
     "tableResultSettingsMap": {},
     "title": ""
    }
   },
   "source": [
    "&copy; 2021-2023 ScholarNest Technologies Pvt. Ltd. All rights reserved.<br/>\n",
    "Apache, Apache Spark, Spark and the Spark logo are trademarks of the <a href=\"https://www.apache.org/\">Apache Software Foundation</a>.<br/>\n",
    "Databricks, Databricks Cloud and the Databricks logo are trademarks of the <a href=\"https://www.databricks.com/\">Databricks Inc</a>.<br/>\n",
    "<br/>\n",
    "<a href=\"https://www.scholarnest.com/privacy/\">Privacy Policy</a> | \n",
    "<a href=\"https://www.scholarnest.com/terms/\">Terms of Use</a> | <a href=\"https://www.scholarnest.com/contact/\">Contact Us</a>"
   ]
  }
 ],
 "metadata": {
  "application/vnd.databricks.v1+notebook": {
   "computePreferences": null,
   "dashboards": [],
   "environmentMetadata": null,
   "inputWidgetPreferences": null,
   "language": "python",
   "notebookMetadata": {
    "pythonIndentUnit": 4
   },
   "notebookName": "09-Sharing data for External Delta Table - Solution",
   "widgets": {}
  }
 },
 "nbformat": 4,
 "nbformat_minor": 0
}